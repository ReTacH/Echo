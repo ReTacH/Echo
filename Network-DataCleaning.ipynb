{
 "cells": [
  {
   "cell_type": "code",
   "execution_count": 1,
   "id": "d43fe75c",
   "metadata": {},
   "outputs": [],
   "source": [
    "import numpy as np\n",
    "import pandas as pd\n",
    "import sqlite3"
   ]
  },
  {
   "cell_type": "code",
   "execution_count": 2,
   "id": "abc753c5",
   "metadata": {},
   "outputs": [
    {
     "data": {
      "text/html": [
       "<div>\n",
       "<style scoped>\n",
       "    .dataframe tbody tr th:only-of-type {\n",
       "        vertical-align: middle;\n",
       "    }\n",
       "\n",
       "    .dataframe tbody tr th {\n",
       "        vertical-align: top;\n",
       "    }\n",
       "\n",
       "    .dataframe thead th {\n",
       "        text-align: right;\n",
       "    }\n",
       "</style>\n",
       "<table border=\"1\" class=\"dataframe\">\n",
       "  <thead>\n",
       "    <tr style=\"text-align: right;\">\n",
       "      <th></th>\n",
       "      <th>user_ID</th>\n",
       "      <th>polarity_score</th>\n",
       "    </tr>\n",
       "  </thead>\n",
       "  <tbody>\n",
       "    <tr>\n",
       "      <th>0</th>\n",
       "      <td>1000010898</td>\n",
       "      <td>-1.375595</td>\n",
       "    </tr>\n",
       "    <tr>\n",
       "      <th>1</th>\n",
       "      <td>1000015790</td>\n",
       "      <td>1.817662</td>\n",
       "    </tr>\n",
       "    <tr>\n",
       "      <th>2</th>\n",
       "      <td>1000044026</td>\n",
       "      <td>1.817662</td>\n",
       "    </tr>\n",
       "    <tr>\n",
       "      <th>3</th>\n",
       "      <td>100004471</td>\n",
       "      <td>-0.798651</td>\n",
       "    </tr>\n",
       "    <tr>\n",
       "      <th>4</th>\n",
       "      <td>100004662</td>\n",
       "      <td>-1.618781</td>\n",
       "    </tr>\n",
       "  </tbody>\n",
       "</table>\n",
       "</div>"
      ],
      "text/plain": [
       "      user_ID  polarity_score\n",
       "0  1000010898       -1.375595\n",
       "1  1000015790        1.817662\n",
       "2  1000044026        1.817662\n",
       "3   100004471       -0.798651\n",
       "4   100004662       -1.618781"
      ]
     },
     "execution_count": 2,
     "metadata": {},
     "output_type": "execute_result"
    }
   ],
   "source": [
    "user_polarity = pd.read_csv(\"USER_POLARITY_BARBERA.txt\", delimiter = \"\\t\", header=None)\n",
    "user_polarity = user_polarity.drop([2], axis=1)\n",
    "user_polarity = user_polarity.rename(columns={0: \"user_ID\", 1: \"polarity_score\"})\n",
    "user_polarity.head(5)"
   ]
  },
  {
   "cell_type": "code",
   "execution_count": 3,
   "id": "26ee6ba1",
   "metadata": {},
   "outputs": [
    {
     "data": {
      "text/html": [
       "<div>\n",
       "<style scoped>\n",
       "    .dataframe tbody tr th:only-of-type {\n",
       "        vertical-align: middle;\n",
       "    }\n",
       "\n",
       "    .dataframe tbody tr th {\n",
       "        vertical-align: top;\n",
       "    }\n",
       "\n",
       "    .dataframe thead th {\n",
       "        text-align: right;\n",
       "    }\n",
       "</style>\n",
       "<table border=\"1\" class=\"dataframe\">\n",
       "  <thead>\n",
       "    <tr style=\"text-align: right;\">\n",
       "      <th></th>\n",
       "      <th>user_ID</th>\n",
       "      <th>production_score</th>\n",
       "    </tr>\n",
       "  </thead>\n",
       "  <tbody>\n",
       "    <tr>\n",
       "      <th>0</th>\n",
       "      <td>334537201</td>\n",
       "      <td>0.734128</td>\n",
       "    </tr>\n",
       "    <tr>\n",
       "      <th>1</th>\n",
       "      <td>115094250</td>\n",
       "      <td>0.226682</td>\n",
       "    </tr>\n",
       "    <tr>\n",
       "      <th>2</th>\n",
       "      <td>2369916919</td>\n",
       "      <td>0.288123</td>\n",
       "    </tr>\n",
       "    <tr>\n",
       "      <th>3</th>\n",
       "      <td>1146470090</td>\n",
       "      <td>0.305678</td>\n",
       "    </tr>\n",
       "    <tr>\n",
       "      <th>4</th>\n",
       "      <td>95708744</td>\n",
       "      <td>0.347375</td>\n",
       "    </tr>\n",
       "  </tbody>\n",
       "</table>\n",
       "</div>"
      ],
      "text/plain": [
       "      user_ID  production_score\n",
       "0   334537201          0.734128\n",
       "1   115094250          0.226682\n",
       "2  2369916919          0.288123\n",
       "3  1146470090          0.305678\n",
       "4    95708744          0.347375"
      ]
     },
     "execution_count": 3,
     "metadata": {},
     "output_type": "execute_result"
    }
   ],
   "source": [
    "user_production_score = pd.read_csv(\"obamacare/users_production_scores.txt\", \n",
    "                                    delimiter = \"\\t\", header = None, lineterminator='\\n')\n",
    "user_production_score = user_production_score.rename(columns={0: \"user_ID\", 1: \"production_score\"})\n",
    "user_production_score = user_production_score.drop([2,3], axis=1)\n",
    "user_production_score.head(5)"
   ]
  },
  {
   "cell_type": "code",
   "execution_count": 4,
   "id": "f8814fa4",
   "metadata": {},
   "outputs": [
    {
     "data": {
      "text/html": [
       "<div>\n",
       "<style scoped>\n",
       "    .dataframe tbody tr th:only-of-type {\n",
       "        vertical-align: middle;\n",
       "    }\n",
       "\n",
       "    .dataframe tbody tr th {\n",
       "        vertical-align: top;\n",
       "    }\n",
       "\n",
       "    .dataframe thead th {\n",
       "        text-align: right;\n",
       "    }\n",
       "</style>\n",
       "<table border=\"1\" class=\"dataframe\">\n",
       "  <thead>\n",
       "    <tr style=\"text-align: right;\">\n",
       "      <th></th>\n",
       "      <th>user_ID</th>\n",
       "      <th>consumption_score</th>\n",
       "    </tr>\n",
       "  </thead>\n",
       "  <tbody>\n",
       "    <tr>\n",
       "      <th>0</th>\n",
       "      <td>334537201</td>\n",
       "      <td>0.738397</td>\n",
       "    </tr>\n",
       "    <tr>\n",
       "      <th>1</th>\n",
       "      <td>115094250</td>\n",
       "      <td>0.391875</td>\n",
       "    </tr>\n",
       "    <tr>\n",
       "      <th>2</th>\n",
       "      <td>2369916919</td>\n",
       "      <td>0.392721</td>\n",
       "    </tr>\n",
       "    <tr>\n",
       "      <th>3</th>\n",
       "      <td>1146470090</td>\n",
       "      <td>0.381466</td>\n",
       "    </tr>\n",
       "    <tr>\n",
       "      <th>4</th>\n",
       "      <td>95708744</td>\n",
       "      <td>0.347500</td>\n",
       "    </tr>\n",
       "  </tbody>\n",
       "</table>\n",
       "</div>"
      ],
      "text/plain": [
       "      user_ID  consumption_score\n",
       "0   334537201           0.738397\n",
       "1   115094250           0.391875\n",
       "2  2369916919           0.392721\n",
       "3  1146470090           0.381466\n",
       "4    95708744           0.347500"
      ]
     },
     "execution_count": 4,
     "metadata": {},
     "output_type": "execute_result"
    }
   ],
   "source": [
    "user_consumption_score = pd.read_csv(\"obamacare/users_consumption_scores.txt\", \n",
    "                                     delimiter = \"\\t\", header = None, lineterminator='\\n')\n",
    "user_consumption_score = user_consumption_score.rename(columns={0: \"user_ID\", 1: \"consumption_score\"})\n",
    "user_consumption_score = user_consumption_score.drop([2,3], axis=1)\n",
    "user_consumption_score.head(5)"
   ]
  },
  {
   "cell_type": "markdown",
   "id": "75ea5367",
   "metadata": {},
   "source": [
    "# data cleaning"
   ]
  },
  {
   "cell_type": "code",
   "execution_count": 8,
   "id": "fd0e32a1",
   "metadata": {},
   "outputs": [],
   "source": [
    "def prepare_df(df):\n",
    "    \n",
    "    # the user has polarity score, production score, consumption score\n",
    "    # and the tweet cites some domain\n",
    "#     df = df[df[0].isin(user_polarity[\"user_ID\"]) & \\\n",
    "#             df[0].isin(user_production_score[\"user_ID\"]) & \\\n",
    "#             df[0].isin(user_consumption_score[\"user_ID\"]) & \\\n",
    "#             df[1].isin(user_polarity[\"user_ID\"]) & \\\n",
    "#             df[1].isin(user_production_score[\"user_ID\"]) & \\\n",
    "#             df[1].isin(user_consumption_score[\"user_ID\"])].dropna()\n",
    "\n",
    "    df = df[df[0].isin(user_polarity[\"user_ID\"]) & \\\n",
    "            df[0].isin(user_production_score[\"user_ID\"]) & \\\n",
    "            df[0].isin(user_consumption_score[\"user_ID\"])].dropna()\n",
    "    \n",
    "    df = df.rename(columns={\n",
    "        0:  \"user_ID\",\n",
    "        1:  \"following_ID\"})\n",
    "    \n",
    "    return df"
   ]
  },
  {
   "cell_type": "code",
   "execution_count": 9,
   "id": "b96f481d",
   "metadata": {},
   "outputs": [],
   "source": [
    "conn = sqlite3.connect(\"obama_network2.db\") \n",
    "df_iter = pd.read_csv(\"obamacare/FULL_FOLLOWER_NETWORK.txt.gz\", \n",
    "                      delimiter = \"\\t\", \n",
    "                      compression = \"gzip\",\n",
    "                      header = None, \n",
    "                      lineterminator='\\n',\n",
    "                      error_bad_lines=False, \n",
    "                      chunksize = 100000,\n",
    "                      names=list(range(2)))\n",
    "for df in df_iter:\n",
    "    df = prepare_df(df)\n",
    "    if df is not None:\n",
    "        df.to_sql(\"network\", conn, if_exists = \"append\", index = False)"
   ]
  },
  {
   "cell_type": "code",
   "execution_count": 10,
   "id": "0d800249",
   "metadata": {},
   "outputs": [],
   "source": [
    "cursor = conn.cursor()"
   ]
  },
  {
   "cell_type": "code",
   "execution_count": 11,
   "id": "e93a6ad4",
   "metadata": {},
   "outputs": [
    {
     "data": {
      "text/plain": [
       "(36791137,)"
      ]
     },
     "execution_count": 11,
     "metadata": {},
     "output_type": "execute_result"
    }
   ],
   "source": [
    "cursor.execute(\"SELECT COUNT(*) FROM network\")\n",
    "result = cursor.fetchone()\n",
    "result"
   ]
  },
  {
   "cell_type": "code",
   "execution_count": 12,
   "id": "9982dbd1",
   "metadata": {},
   "outputs": [
    {
     "name": "stdout",
     "output_type": "stream",
     "text": [
      "CREATE TABLE \"network\" (\n",
      "\"user_ID\" INTEGER,\n",
      "  \"following_ID\" INTEGER\n",
      ")\n"
     ]
    }
   ],
   "source": [
    "cursor.execute(\"SELECT sql FROM sqlite_master WHERE type='table';\")\n",
    "for result in cursor.fetchall():\n",
    "    print(result[0])"
   ]
  },
  {
   "cell_type": "code",
   "execution_count": null,
   "id": "6dc5e665",
   "metadata": {},
   "outputs": [],
   "source": []
  }
 ],
 "metadata": {
  "kernelspec": {
   "display_name": "Python 3.7 (tensorflow)",
   "language": "python",
   "name": "tensorflow"
  },
  "language_info": {
   "codemirror_mode": {
    "name": "ipython",
    "version": 3
   },
   "file_extension": ".py",
   "mimetype": "text/x-python",
   "name": "python",
   "nbconvert_exporter": "python",
   "pygments_lexer": "ipython3",
   "version": "3.8.8"
  }
 },
 "nbformat": 4,
 "nbformat_minor": 5
}
